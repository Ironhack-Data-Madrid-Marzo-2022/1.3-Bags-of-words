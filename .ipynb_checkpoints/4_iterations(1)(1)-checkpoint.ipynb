{
 "cells": [
  {
   "cell_type": "markdown",
   "metadata": {
    "id": "KrahGtLGD6ON"
   },
   "source": [
    "## Iterations "
   ]
  },
  {
   "cell_type": "markdown",
   "metadata": {
    "id": "vCE3GG14D6OR"
   },
   "source": [
    "Iterations are used to execute a block of code repeatedly. Python provides **FOR LOOPS** and **WHILE LOOPS** to \n",
    "perform iterations.   \n",
    "In this lesson we will talk about **FOR LOOP** and we will touch briefly **WHILE LOOPS**."
   ]
  },
  {
   "cell_type": "markdown",
   "metadata": {
    "id": "AWJWmQ6iD6OS"
   },
   "source": [
    "**IMPORTANT!!!**\n",
    "\n",
    "When should we use the **FOR LOOP**, and when the **WHILE LOOP**?\n",
    "The *rule of thumb is* depends on the number of repeats:\n",
    "\n",
    "* If you know how many times ( no matter how many ) you want to repeat your code **USE A FOOR LOOP**\n",
    "* If the number of times you want to repeat your code is not fixed and is based on a condition **USE A WHILE LOOP**\n",
    "\n",
    "A couple of examples will clarify this distinction. \n",
    "\n",
    "Do you remember the school times when someone was punished to write 500 times: \"I will pay attention to the teacher lessons\"? In this case, you already know beforehand how many times the student has to write the sentence (500). Therefore, you should use a **FOR LOOP**\n",
    "\n",
    "On the other hand, imagine that you're preparing for an exam. How long you should be studying the lesson? You don't know it beforehand, you will be studying until you master the lesson. Then, in this case, you don't know how much time you will need to go over and over the lesson. You have a stoping conditing which is: \"mastering the lesson\". Therefore you should **USE A WHILE LOOP**."
   ]
  },
  {
   "cell_type": "markdown",
   "metadata": {
    "id": "0lczJjE_D6OT"
   },
   "source": [
    "**This is the general syntax of the FOR loop in Python:**"
   ]
  },
  {
   "cell_type": "markdown",
   "metadata": {
    "id": "LeRhuLyiD6OT"
   },
   "source": [
    "```python\n",
    "for <variable> in <iterable>:\n",
    "    <statement>\n",
    "    <statement>\n",
    "    <statement>\n",
    "```"
   ]
  },
  {
   "cell_type": "markdown",
   "metadata": {
    "id": "nybHU278D6OT"
   },
   "source": [
    "Pay attention to a couple of things here. \n",
    "- First the `:` after the `<iterable>` as this indicates an entry point of a \"block\" of statements (there can be as many as you need \"statement\" blocks). This \"block\" contains the instructions you want to repeat shown as `<statement>`. \n",
    "- The second is that the `<statement>` **is not left-aligned**. As you can see, they are a bit shifted to the right, and this is done automatically by the Jupyter notebook or Google collab."
   ]
  },
  {
   "cell_type": "markdown",
   "metadata": {
    "id": "P7_PLn1xD6OU"
   },
   "source": [
    "In the **FOR LOOP**, you can replace `<variable>` with a variable you may want to use ( typically any variable you haven't used before in the code, otherwise, you will overwrite the content of the variable ). On the other hand `<iterable>` is typically a sequence of elements like a list. \n",
    "    \n",
    "In a **FOR LOOP**, the value of the `<variable>` will be replaced by each of the elements of the `<iterable>` until all the values stored in the `<iterable>` are used. \n",
    "In short, the first time content of `<variable>` will be replaced by the value of the first element in the `<iterable>`. Then Python will execute all the statements inside the \"block\". Next, the content of the `<variable>` will be replaced by the next value of the `<iterable>` and all the statements below will be executed again. This process will be repeated until the `<variable>` has been replaced by all the values contained in the `<iterable>`. Therefore, the statements under the **FOR LOOP will be repeated as many times as elements contained in the `<iterable>`**. \n",
    "\n",
    "Thus, if the `<iterable>` contains five elements, then statements below the **FOR LOOP** will be repeated five times.\n",
    "If the `<iterable>` has seven elements, then then the statements below the **FOR LOOP** will be repeated seven times and so on. This is why you will use a **FOR LOOP when you know beforehand the number of times that you want to repeat a piece of code.**"
   ]
  },
  {
   "cell_type": "code",
   "execution_count": null,
   "metadata": {
    "id": "i8vxoc4pD6OV",
    "outputId": "ce79201d-5b64-4088-cc3b-fbd8c23a5883"
   },
   "outputs": [
    {
     "name": "stdout",
     "output_type": "stream",
     "text": [
      "0\n",
      "hello\n",
      "1\n",
      "hello\n",
      "2\n",
      "hello\n",
      "3\n",
      "hello\n",
      "4\n",
      "hello\n",
      "5\n",
      "hello\n",
      "6\n",
      "hello\n",
      "7\n",
      "hello\n",
      "8\n",
      "hello\n",
      "9\n",
      "hello\n"
     ]
    }
   ],
   "source": [
    "# We are using the range function to execute the block of statements (here only a single print command) 10 times\n",
    "# Just like the IF ELIF ELSE conditional statements, all the lines of code with the same indentation are executed\n",
    "\n",
    "for i in range(10):    # Note: here we are using the membership operator \"IN\" \n",
    "    print(i)\n",
    "    print('hello')\n",
    "    # dummy line 1  # Lines of code with the same indentation. \n",
    "    # dummy line 2\n",
    "    # .\n",
    "    #..\n",
    "    # ..."
   ]
  },
  {
   "cell_type": "markdown",
   "metadata": {
    "id": "pO4Fi5uPD6OX"
   },
   "source": [
    "**Here, we will see how the value of \"i\" changes when we use the `range()` function.**  \n",
    "By default, the values are generated starting with 0 and until one is less than the value mentioned in the range() function.  \n",
    "In this case, from 0 to 9."
   ]
  },
  {
   "cell_type": "code",
   "execution_count": null,
   "metadata": {
    "id": "qcU1NWarD6OY",
    "outputId": "69003652-5770-4e33-e101-b973815078fe"
   },
   "outputs": [
    {
     "name": "stdout",
     "output_type": "stream",
     "text": [
      "0\n",
      "1\n",
      "2\n",
      "3\n",
      "4\n",
      "5\n",
      "6\n",
      "7\n",
      "8\n",
      "9\n"
     ]
    }
   ],
   "source": [
    "# \"i\" is the variable here. It takes on values from the range() function from 0 to 9, iteratively\n",
    "for i in range(10):  \n",
    "    print(i)"
   ]
  },
  {
   "cell_type": "markdown",
   "metadata": {
    "id": "ABQhi8ZqD6OZ"
   },
   "source": [
    "In the following example, we will use **conditional statement** in the **for** loop to print only the even numbers."
   ]
  },
  {
   "cell_type": "code",
   "execution_count": null,
   "metadata": {
    "id": "ZFKzPYeLD6OZ",
    "outputId": "904f2c3f-b118-4dea-f69d-947a09253540"
   },
   "outputs": [
    {
     "name": "stdout",
     "output_type": "stream",
     "text": [
      "0\n",
      "2\n",
      "4\n",
      "6\n",
      "8\n"
     ]
    }
   ],
   "source": [
    "for i in range(10):\n",
    "    if i%2==0:\n",
    "        print(i)"
   ]
  },
  {
   "cell_type": "markdown",
   "metadata": {
    "id": "d8IHtPpKD6OZ"
   },
   "source": [
    "Pay attention to the flow of the code and the indentation. `IF` condition is executed 10 times, but \"i\" is only printed when the condition is met because it is contained inside the `IF` statement."
   ]
  },
  {
   "cell_type": "markdown",
   "metadata": {
    "id": "01FAZnJAD6Oa"
   },
   "source": [
    "When we used the `range` function earlier, we mentioned that the values are generated starting from 0.   \n",
    "However, the `range` function can also be used in a couple of other ways. Observe the outputs in the following code:"
   ]
  },
  {
   "cell_type": "code",
   "execution_count": null,
   "metadata": {
    "id": "OZAyTqUsD6Oa",
    "outputId": "961ba860-092c-4f51-ab56-d4491ccfb90c"
   },
   "outputs": [
    {
     "name": "stdout",
     "output_type": "stream",
     "text": [
      "3\n",
      "4\n",
      "5\n",
      "6\n",
      "7\n",
      "8\n",
      "9\n"
     ]
    }
   ],
   "source": [
    "for i in range(3, 10):  # In this case, the iteration starts on 3 until 9\n",
    "    print(i)"
   ]
  },
  {
   "cell_type": "code",
   "execution_count": null,
   "metadata": {
    "id": "jIoQodrGD6Oa",
    "outputId": "091c23e2-40f5-4363-c27e-d8b2fb3a71d3"
   },
   "outputs": [
    {
     "name": "stdout",
     "output_type": "stream",
     "text": [
      "0\n",
      "2\n",
      "4\n",
      "6\n",
      "8\n"
     ]
    }
   ],
   "source": [
    "for i in range(0, 10, 2):  # In this case, the iteration starts on 0 until 9 in steps of 2 \n",
    "    print(i)"
   ]
  },
  {
   "cell_type": "markdown",
   "metadata": {
    "id": "Oboxz4yfD6Ob"
   },
   "source": [
    "In this example, we will increment the value of `a` variable by a constant at each iteration.  \n",
    "Then, we will print the values of `a` at each iteration. In the end, we will print the final value of `a` after `for` loop ends."
   ]
  },
  {
   "cell_type": "code",
   "execution_count": null,
   "metadata": {
    "id": "KoLnYaUJD6Ob",
    "outputId": "c86cf363-fc3c-4f45-d532-b6b216426502"
   },
   "outputs": [
    {
     "name": "stdout",
     "output_type": "stream",
     "text": [
      "Value of a at step 0 is 5\n",
      "Value of a at step 1 is 10\n",
      "Value of a at step 2 is 15\n",
      "Value of a at step 3 is 20\n",
      "Value of a at step 4 is 25\n",
      "Value of a at step 5 is 30\n",
      "Value of a at step 6 is 35\n",
      "Value of a at step 7 is 40\n",
      "Value of a at step 8 is 45\n",
      "Value of a at step 9 is 50\n",
      "This is the final value of a 50\n"
     ]
    }
   ],
   "source": [
    "a = 0\n",
    "constant = 5\n",
    "for i in range(10):\n",
    "    a = a + constant\n",
    "    print(\"Value of a at step\", i, \"is\", a)\n",
    "print(\"This is the final value of a\", a)"
   ]
  },
  {
   "cell_type": "markdown",
   "metadata": {
    "id": "uYpFsglHD6Ob"
   },
   "source": [
    "-----------------------------"
   ]
  },
  {
   "cell_type": "markdown",
   "metadata": {
    "id": "hD_jWzm_D6Ob"
   },
   "source": [
    "### 1. Exercise - Simple Iterations "
   ]
  },
  {
   "cell_type": "markdown",
   "metadata": {
    "id": "i82gPbNaD6Oc"
   },
   "source": [
    "**1.1**  Write a simple for loop to print integers from 10 to 30. Also, write a code to print those numbers in steps of 3."
   ]
  },
  {
   "cell_type": "code",
   "execution_count": 3,
   "metadata": {
    "id": "R9xgpmLBD6Oc"
   },
   "outputs": [
    {
     "name": "stdout",
     "output_type": "stream",
     "text": [
      "10\n",
      "13\n",
      "16\n",
      "19\n",
      "22\n",
      "25\n",
      "28\n"
     ]
    }
   ],
   "source": [
    "for i in range(10,30,3):\n",
    "    print(i)"
   ]
  },
  {
   "cell_type": "markdown",
   "metadata": {
    "id": "ZLjmn0jwD6Oc"
   },
   "source": [
    "**1.2** Update the previous code to print all the numbers from 10 to 30 that are multiples of 5. (These are: 5,10, 15, ...)"
   ]
  },
  {
   "cell_type": "code",
   "execution_count": 4,
   "metadata": {
    "id": "rhi3-A0gD6Oc"
   },
   "outputs": [
    {
     "name": "stdout",
     "output_type": "stream",
     "text": [
      "10\n",
      "15\n",
      "20\n",
      "25\n"
     ]
    }
   ],
   "source": [
    "for i in range(10,30):\n",
    "    if i%5==0:\n",
    "        print(i)"
   ]
  },
  {
   "cell_type": "markdown",
   "metadata": {
    "id": "nA-Ivr6MD6Oc"
   },
   "source": [
    "**1.3** Write a code to print this pattern. Modify the print statement in the dummy code provided:\n",
    "\n",
    "- The pattern    \n",
    "    ```\n",
    "    *\n",
    "    ***\n",
    "    *****\n",
    "    ```\n",
    "\n",
    "<br>\n",
    "\n",
    "- Dummy Code\n",
    "\n",
    "    ```python\n",
    "    for i in range(1, _, _):\n",
    "        print(\"*\"*i)\n",
    "    ```"
   ]
  },
  {
   "cell_type": "code",
   "execution_count": 7,
   "metadata": {
    "id": "839Sa0cpD6Od"
   },
   "outputs": [
    {
     "name": "stdout",
     "output_type": "stream",
     "text": [
      "*\n",
      "***\n",
      "*****\n"
     ]
    }
   ],
   "source": [
    "for i in range(1,6,2):\n",
    "      print(\"*\"*i)"
   ]
  },
  {
   "cell_type": "markdown",
   "metadata": {
    "id": "Y-r13CBRD6Od"
   },
   "source": [
    "**1.4** Update the previous code to print the following pattern:\n",
    "\n",
    "  ```\n",
    "    *\n",
    "   ***\n",
    "  *****\n",
    "  ```\n",
    "\n",
    "  ```python\n",
    "  a = # Fill the starting value\n",
    "  for i in range(1, _, _):\n",
    "    a = a - 1\n",
    "    print(\" \"*a+\"*\"*i)\n",
    "  ```"
   ]
  },
  {
   "cell_type": "code",
   "execution_count": 13,
   "metadata": {
    "id": "Qz-SKZSfD6Od"
   },
   "outputs": [
    {
     "name": "stdout",
     "output_type": "stream",
     "text": [
      "  *\n",
      " ***\n",
      "*****\n"
     ]
    }
   ],
   "source": [
    "a=3\n",
    "for i in range(1,6,2):\n",
    "    a=a-1\n",
    "    print(\" \"*a+\"*\"*i)"
   ]
  },
  {
   "cell_type": "markdown",
   "metadata": {
    "id": "DWV8_ryhD6Od"
   },
   "source": [
    "**1.5** Use the function `input()` to take an integer number from the user and find the factorial of that number using loops. You can use the factorial method provided in the `math` library to check if your result is correct or not. You can use the `math` library to calculate the factorial as follows:\n",
    "\n",
    "<br>\n",
    "\n",
    "```python\n",
    "import math\n",
    "math.factorial(n) # n is the positive integer for which we want to calculate the factorial \n",
    "```\n",
    "\n",
    "**Note**: Factorial is defined as:\n",
    "\n",
    "```\n",
    "5 ! = 5*4*3*2*1  # \" ! \" is the mathematical notation for factorial\n",
    "    \n",
    "n! = n*(n-1)*(n-2)*..........*1\n",
    "```"
   ]
  },
  {
   "cell_type": "code",
   "execution_count": 40,
   "metadata": {
    "id": "nlky63ApD6Od"
   },
   "outputs": [
    {
     "name": "stdout",
     "output_type": "stream",
     "text": [
      "enter number: 5\n",
      "120\n"
     ]
    }
   ],
   "source": [
    "\n",
    "x=int(input(\"enter number: \"))\n",
    "y=1\n",
    "for x in range(1,x+1):\n",
    "   y=x*y\n",
    "print(y)\n",
    "    \n",
    "\n",
    "\n"
   ]
  },
  {
   "cell_type": "markdown",
   "metadata": {
    "id": "aAM3MT2-D6Oe"
   },
   "source": [
    "-----------------------------"
   ]
  },
  {
   "cell_type": "markdown",
   "metadata": {
    "id": "yJi3MwNHD6Oe"
   },
   "source": [
    "### Iterating on Lists\n",
    "\n",
    "We talked about lists and dictionaries before. You can also iterate the items of a list or a dictionary.   \n",
    "Find below some examples of its implementation."
   ]
  },
  {
   "cell_type": "markdown",
   "metadata": {
    "id": "KTUlDY0WD6Oe"
   },
   "source": [
    "Here we have a list with some integer values. We will use the operator `IN` to iterate on the values. \n",
    "\n",
    "The `item` variable takes the values from the list starting with index 0 until the length of the list:"
   ]
  },
  {
   "cell_type": "code",
   "execution_count": null,
   "metadata": {
    "id": "OgLLWFUpD6Oe",
    "outputId": "6fbaa94f-1457-4a61-8847-1e42013b8ad4"
   },
   "outputs": [
    {
     "name": "stdout",
     "output_type": "stream",
     "text": [
      "12\n",
      "43\n",
      "4\n",
      "1\n",
      "6\n",
      "343\n",
      "10\n"
     ]
    }
   ],
   "source": [
    "x = [12, 43, 4, 1, 6, 343, 10]\n",
    "for item in x:\n",
    "    print(item)"
   ]
  },
  {
   "cell_type": "markdown",
   "metadata": {
    "id": "RjYx4YzuD6Oe"
   },
   "source": [
    "We can iterate on the elements of the list, irrespective of the data type. An example is shown below:"
   ]
  },
  {
   "cell_type": "code",
   "execution_count": null,
   "metadata": {
    "id": "hSmTp7Y0D6Oe",
    "outputId": "283ad93c-1506-41cc-cf0e-6f275df30c93"
   },
   "outputs": [
    {
     "name": "stdout",
     "output_type": "stream",
     "text": [
      "apple\n",
      "orange\n",
      "banana\n",
      "grapes\n",
      "pineapple\n"
     ]
    }
   ],
   "source": [
    "fruits = ['apple', 'orange', 'banana', 'grapes', 'pineapple']\n",
    "for fruit in fruits:\n",
    "    print(fruit)"
   ]
  },
  {
   "cell_type": "markdown",
   "metadata": {
    "id": "3TpGHrEfD6Of"
   },
   "source": [
    "Here is a simple example to add the elements of a list. We do it in several steps. \n",
    "\n",
    "1. We define the list.\n",
    "2. We define the variable `total` to store the sum of all the list elements.\n",
    "3. As we know how many elements we want to add, we use a **FOR LOOP** to go through all the elements in the list.\n",
    "4. We update the value of the `total` variable."
   ]
  },
  {
   "cell_type": "code",
   "execution_count": null,
   "metadata": {
    "id": "roZdRBGLD6Of"
   },
   "outputs": [],
   "source": [
    "num_list = [34, 12, 93, 783, 330, 896, 1, 55]\n",
    "total = 0\n",
    "\n",
    "for i in num_list:\n",
    "    total += i  # total = total + i\n",
    "    print(\"Total at step\",i, \"is\", total)\n",
    "    \n",
    "print('\\n')  # to add an empty line (this is new line operator, it moves the cursor to the next line)\n",
    "print(\"The final total is \", total)"
   ]
  },
  {
   "cell_type": "markdown",
   "metadata": {
    "id": "VxBUakDkD6Of"
   },
   "source": [
    "### Add elements to an empty list"
   ]
  },
  {
   "cell_type": "markdown",
   "metadata": {
    "id": "0TJ0VvdwD6Of"
   },
   "source": [
    "In the following example, we will show how to define an empty list and add elements to it using iterations.  \n",
    "\n",
    "**Problem statement is:** we are given a list with some integer elements. We want to create a new list that will consist of the squares of each element of the list. \n",
    "\n",
    "For this purpose, we can use the function `append()` that only works when it's applied to a list. It can add any kind of element to the end of a given list."
   ]
  },
  {
   "cell_type": "code",
   "execution_count": null,
   "metadata": {
    "id": "9O_m6OLND6Of"
   },
   "outputs": [],
   "source": [
    "data = [1, 2, 3, 4, 5, 6, 7, 8, 9, 10]\n",
    "new_list = [] # Defining an empty list \n",
    "\n",
    "for item in data:\n",
    "    new_list.append(item**2)  # at each iteration, square for the value is calculated and appended to the list \n",
    "print(new_list)"
   ]
  },
  {
   "cell_type": "markdown",
   "metadata": {
    "id": "sfloBTNND6Of"
   },
   "source": [
    "-----------------------------"
   ]
  },
  {
   "cell_type": "markdown",
   "metadata": {
    "id": "o8GHC6l_D6Og"
   },
   "source": [
    "### 2. Exercise : Iterations on Lists"
   ]
  },
  {
   "cell_type": "markdown",
   "metadata": {
    "id": "dPmp1YIgD6Og"
   },
   "source": [
    "Given the list:\n",
    "\n",
    "    ```python\n",
    "    x = [12, 43, 4, 1, 6, 343, 10, 34, 12, 93, 783, 330, 896, 1, 55]\n",
    "    ```\n",
    "\n",
    "<br />\n",
    "\n",
    "**2.1** Write a code to find only those numbers that are divisible by 3."
   ]
  },
  {
   "cell_type": "code",
   "execution_count": 58,
   "metadata": {},
   "outputs": [
    {
     "name": "stdout",
     "output_type": "stream",
     "text": [
      "12\n",
      "6\n",
      "12\n",
      "93\n",
      "783\n",
      "330\n"
     ]
    }
   ],
   "source": [
    "x = [12, 43, 4, 1, 6, 343, 10, 34, 12, 93, 783, 330, 896, 1, 55]\n",
    "new_list=[]\n",
    "for item in x:\n",
    "    if item % 3 == 0:\n",
    "    \n",
    "        print(item)"
   ]
  },
  {
   "cell_type": "markdown",
   "metadata": {},
   "source": [
    "**2.2** Write a code to find only those numbers in the list that end with the digit 3. Store the results in an empty list called \"output_list\". Note: for this one you have to convert the integers to strings and use indexing to find the last digit. A simple example of how to use indexes with strings is shown below:\n",
    "\n",
    "```python\n",
    "string_value = 'IRONHACK'\n",
    "string_value[0]\n",
    "```"
   ]
  },
  {
   "cell_type": "code",
   "execution_count": 60,
   "metadata": {},
   "outputs": [
    {
     "name": "stdout",
     "output_type": "stream",
     "text": [
      "43\n",
      "343\n",
      "93\n",
      "783\n"
     ]
    }
   ],
   "source": [
    "x = [12, 43, 4, 1, 6, 343, 10, 34, 12, 93, 783, 330, 896, 1, 55]\n",
    "output_list=[]\n",
    "for item in x:\n",
    "    item=str(item)\n",
    "    last_digit=item[-1]\n",
    "    if last_digit==\"3\":\n",
    "        output_list.append(item)\n",
    "        print (item)"
   ]
  },
  {
   "cell_type": "markdown",
   "metadata": {},
   "source": [
    "**2.3** Find the minimum in the list `x`. Research to see if you can use any function directly."
   ]
  },
  {
   "cell_type": "code",
   "execution_count": 61,
   "metadata": {},
   "outputs": [
    {
     "data": {
      "text/plain": [
       "1"
      ]
     },
     "execution_count": 61,
     "metadata": {},
     "output_type": "execute_result"
    }
   ],
   "source": [
    "x = [12, 43, 4, 1, 6, 343, 10, 34, 12, 93, 783, 330, 896, 1, 55]\n",
    "min(x)"
   ]
  },
  {
   "cell_type": "markdown",
   "metadata": {},
   "source": [
    "**2.4** Find the maximum in the list `x`. Research to see if you can use any function directly."
   ]
  },
  {
   "cell_type": "code",
   "execution_count": 62,
   "metadata": {
    "id": "maYRn1xgD6Og"
   },
   "outputs": [
    {
     "data": {
      "text/plain": [
       "896"
      ]
     },
     "execution_count": 62,
     "metadata": {},
     "output_type": "execute_result"
    }
   ],
   "source": [
    "x = [12, 43, 4, 1, 6, 343, 10, 34, 12, 93, 783, 330, 896, 1, 55]\n",
    "max(x)"
   ]
  },
  {
   "cell_type": "markdown",
   "metadata": {
    "id": "caGMNACND6Og"
   },
   "source": [
    "-----------------------------"
   ]
  },
  {
   "cell_type": "markdown",
   "metadata": {
    "id": "m5U0Px-2D6Og"
   },
   "source": [
    "### Iterating on Dictionaries\n",
    "\n",
    "Similarly, we can also iterate on the elements of a dictionary. A simple example is shown below:"
   ]
  },
  {
   "cell_type": "code",
   "execution_count": 2,
   "metadata": {
    "id": "fTjIHIk_D6Oh"
   },
   "outputs": [],
   "source": [
    "x = {'key1': 100 , 'key2': 200 , 'key3': 300}"
   ]
  },
  {
   "cell_type": "markdown",
   "metadata": {},
   "source": [
    "We can apply the function `.keys()` over a dictionary to obtain an `<iterable>` that we can use in a for loop to obtain all the keys."
   ]
  },
  {
   "cell_type": "code",
   "execution_count": 5,
   "metadata": {
    "id": "G2SyxXhxD6Oh",
    "outputId": "57b01699-9206-472a-d7bd-e4d7a6f912bf"
   },
   "outputs": [
    {
     "name": "stdout",
     "output_type": "stream",
     "text": [
      "key1\n",
      "key2\n",
      "key3\n"
     ]
    }
   ],
   "source": [
    "for key in x.keys():\n",
    "    print(key)"
   ]
  },
  {
   "cell_type": "markdown",
   "metadata": {
    "id": "WtceUnfID6Oh"
   },
   "source": [
    "Similarly, when we apply the function `.values()` over a dictionary to obtain an `<iterable>` that we can use in a for loop."
   ]
  },
  {
   "cell_type": "code",
   "execution_count": 4,
   "metadata": {
    "id": "QmemmBirD6Oh"
   },
   "outputs": [
    {
     "name": "stdout",
     "output_type": "stream",
     "text": [
      "100\n",
      "200\n",
      "300\n"
     ]
    }
   ],
   "source": [
    "for value in x.values():\n",
    "    print(value)"
   ]
  },
  {
   "cell_type": "markdown",
   "metadata": {},
   "source": [
    "Finally, we can also apply the function `.items()` over a dictionary to obtain an `<iterable>` of all the `key, value` pairs in a dictionary. "
   ]
  },
  {
   "cell_type": "code",
   "execution_count": 6,
   "metadata": {
    "id": "TGbVZ5UHD6Oi",
    "outputId": "2b27b9eb-e6f5-4b5a-b489-b3666a45c836",
    "scrolled": true
   },
   "outputs": [
    {
     "name": "stdout",
     "output_type": "stream",
     "text": [
      "For  key1  the value is:  100\n",
      "For  key2  the value is:  200\n",
      "For  key3  the value is:  300\n"
     ]
    }
   ],
   "source": [
    "for key, value in x.items():\n",
    "    print(\"For \", key, \" the value is: \", value)"
   ]
  },
  {
   "cell_type": "markdown",
   "metadata": {
    "id": "ocK9Yp_kD6Oi"
   },
   "source": [
    "It's important to pay attention to the order. When we use `.items()` the first value is the `key`, and the second is the `value` associated with the `key`. No matter the names we use in the variables of the loop. Another example is provided below."
   ]
  },
  {
   "cell_type": "code",
   "execution_count": 7,
   "metadata": {
    "id": "0WySk-qBD6Oi",
    "outputId": "5d9fe5e5-d80d-4c60-80f5-18d5316a2170"
   },
   "outputs": [
    {
     "name": "stdout",
     "output_type": "stream",
     "text": [
      "Brian is 23 years old.\n",
      "Amy is 22 years old.\n",
      "Darlene is 47 years old.\n",
      "Ralph is 32 years old.\n",
      "Jordan is 28 years old.\n",
      "Stephanie is 35 years old.\n"
     ]
    }
   ],
   "source": [
    "ages = {'Brian':23, 'Amy':22, 'Darlene':47, 'Ralph':32, 'Jordan':28, 'Stephanie':35}\n",
    "\n",
    "for name, age in ages.items():\n",
    "    print(name, \"is\", age, \"years old.\")"
   ]
  },
  {
   "cell_type": "markdown",
   "metadata": {
    "id": "TfF5vLsSD6Oi"
   },
   "source": [
    "**Note:** Dictionaries allow you to group several variables. They are especially suited to count different things as you can set each counter as a **key** and the count as the corresponding **value**."
   ]
  },
  {
   "cell_type": "markdown",
   "metadata": {
    "id": "vDaP12dSD6Oj"
   },
   "source": [
    "#### 3. Exercise: Iterations on Dictionaries"
   ]
  },
  {
   "cell_type": "markdown",
   "metadata": {
    "id": "oWHtlCccD6Oj"
   },
   "source": [
    "Given this dictionary:"
   ]
  },
  {
   "cell_type": "code",
   "execution_count": 8,
   "metadata": {
    "id": "kQMORoCTD6Oj"
   },
   "outputs": [],
   "source": [
    "word_freq = {'love': 25, 'conversation': 1, 'every': 6, \"we're\": 1, 'plate': 1, 'sour': 1, 'jukebox': 1, 'now': 11, 'taxi': 1, 'fast': 1, 'bag': 1, 'man': 1, 'push': 3, 'baby': 14, 'going': 1, 'you': 16, \"don't\": 2, 'one': 1, 'mind': 2, 'backseat': 1, 'friends': 1, 'then': 3, 'know': 2}"
   ]
  },
  {
   "cell_type": "markdown",
   "metadata": {
    "id": "OPiInNFgD6Oj"
   },
   "source": [
    "**3.1** Iterate on the items of this dictionary to print only those keys where the frequency of the word is less than 3."
   ]
  },
  {
   "cell_type": "code",
   "execution_count": 65,
   "metadata": {},
   "outputs": [
    {
     "name": "stdout",
     "output_type": "stream",
     "text": [
      "conversation\n",
      "we're\n",
      "plate\n",
      "sour\n",
      "jukebox\n",
      "taxi\n",
      "fast\n",
      "bag\n",
      "man\n",
      "going\n",
      "don't\n",
      "one\n",
      "mind\n",
      "backseat\n",
      "friends\n",
      "know\n"
     ]
    }
   ],
   "source": [
    "word_freq = {'love': 25, 'conversation': 1, 'every': 6, \"we're\": 1, 'plate': 1, 'sour': 1, 'jukebox': 1, 'now': 11, 'taxi': 1, 'fast': 1, 'bag': 1, 'man': 1, 'push': 3, 'baby': 14, 'going': 1, 'you': 16, \"don't\": 2, 'one': 1, 'mind': 2, 'backseat': 1, 'friends': 1, 'then': 3, 'know': 2}\n",
    "for word,freq in word_freq.items():\n",
    "    if freq<3:\n",
    "        print(word)"
   ]
  },
  {
   "cell_type": "markdown",
   "metadata": {},
   "source": [
    "**3.2** Iterate on the items of this dictionary to print the word with the highest frequency."
   ]
  },
  {
   "cell_type": "code",
   "execution_count": 69,
   "metadata": {
    "id": "l_2VFQsdD6Oj"
   },
   "outputs": [
    {
     "name": "stdout",
     "output_type": "stream",
     "text": [
      "love\n"
     ]
    }
   ],
   "source": [
    "word_freq = {'love': 25, 'conversation': 1, 'every': 6, \"we're\": 1, 'plate': 1, 'sour': 1, 'jukebox': 1, 'now': 11, 'taxi': 1, 'fast': 1, 'bag': 1, 'man': 1, 'push': 3, 'baby': 14, 'going': 1, 'you': 16, \"don't\": 2, 'one': 1, 'mind': 2, 'backseat': 1, 'friends': 1, 'then': 3, 'know': 2}\n",
    "frequencies=list(word_freq.values())\n",
    "max_freq=max(frequencies)\n",
    "for word,freq in word_freq.items():\n",
    "    if freq==max_freq:\n",
    "        print(word)"
   ]
  },
  {
   "cell_type": "markdown",
   "metadata": {
    "id": "GNofUsKwD6Oj"
   },
   "source": [
    "## While Loops  "
   ]
  },
  {
   "cell_type": "markdown",
   "metadata": {
    "id": "5RiXFnq4D6Oj"
   },
   "source": [
    "While loop executes a block of statement **until a condition is true**. As soon as the condition is false, the flow of the code jumps out of the while loop and starts executing the code after the while loop. \n",
    "\n",
    "**BEWARE!!!** You need to make sure that the condition of the **WHILE LOOP** will change sooner or later as otherwsie the Python code will never end.\n",
    "\n",
    "The general structure of a while loop is:"
   ]
  },
  {
   "cell_type": "markdown",
   "metadata": {
    "id": "WH4FR9qGD6Oj"
   },
   "source": [
    "```\n",
    "while <condition>:\n",
    "    <statement>\n",
    "    <statement>\n",
    "    <statement>\n",
    "```"
   ]
  },
  {
   "cell_type": "markdown",
   "metadata": {
    "id": "tQWD_j80D6Ok"
   },
   "source": [
    "where:\n",
    "- `<condition>` is any Python logical condition and \n",
    "- `<statement>` is any Python instruction you want to repeat while `<condition>` is true."
   ]
  },
  {
   "cell_type": "markdown",
   "metadata": {
    "id": "YnjSUUaCD6Ok"
   },
   "source": [
    "Similar to the **FOR LOOP** a couple of things are worthy of paying attention here. \n",
    "\n",
    "First the `:` after the `<condition>` as this indicates an entry point of a \"block\" of statements (it can contain as many as you want). This \"block\" contains the instructions you want to repeat shown as `<statement>`. \n",
    "\n",
    "The second is that the `<statement>` **are not left-aligned**. As you can see they are a bit shifted to the right and this is done automatically by the jupyter notebook or Google colab."
   ]
  },
  {
   "cell_type": "markdown",
   "metadata": {},
   "source": [
    "One example will illustrate how the `while` loop works."
   ]
  },
  {
   "cell_type": "code",
   "execution_count": null,
   "metadata": {
    "id": "1ek9ln3iD6Ok"
   },
   "outputs": [],
   "source": [
    "i = 0 \n",
    "while i<10:\n",
    "    print(\"Hello\")\n",
    "    print(i)\n",
    "    i = i+1 # we update the value of i depending on how many times or how we want the while loop to work "
   ]
  },
  {
   "cell_type": "markdown",
   "metadata": {
    "id": "C1WrfMEZD6Ok"
   },
   "source": [
    "In the provided example, we initialize a variable `i` that we use later in the `<condition>` (i < 10, in the example) of the `WHILE` loop to control how many times we want to repeat the statements inside the loop.\n",
    "\n",
    "**Beware** that we need to change the value of the variable `i` inside the while loop as otherwise the loop will never end as `i<10` will always be true. "
   ]
  },
  {
   "cell_type": "markdown",
   "metadata": {},
   "source": [
    "We can modify the value of the variable `i` to any other value as shown in the next example."
   ]
  },
  {
   "cell_type": "code",
   "execution_count": null,
   "metadata": {
    "id": "-YIpwkmFD6Ok"
   },
   "outputs": [],
   "source": [
    "i = 0\n",
    "while i<10:\n",
    "    print(\"Hello\")\n",
    "    print(i)\n",
    "    i = i + 3 # we update the value of i depending on how many times or how we want the while loop to work "
   ]
  },
  {
   "cell_type": "markdown",
   "metadata": {},
   "source": [
    "Another final example is to iterate over the characters of a string."
   ]
  },
  {
   "cell_type": "code",
   "execution_count": null,
   "metadata": {
    "id": "boDQe79cD6Ok",
    "outputId": "fa5feddf-13d3-4499-a35d-e73949fe8498"
   },
   "outputs": [
    {
     "name": "stdout",
     "output_type": "stream",
     "text": [
      "I\n",
      "R\n",
      "O\n",
      "N\n",
      "H\n",
      "A\n",
      "C\n",
      "K\n"
     ]
    }
   ],
   "source": [
    "word = \"IRONHACK\"\n",
    "i = 0\n",
    "while i < len(word): # Here, the `len()` function returns how many elements (letters or blanck spaces) contains the string.\n",
    "    print(word[i])\n",
    "    i=i+1"
   ]
  },
  {
   "cell_type": "markdown",
   "metadata": {},
   "source": [
    "We can also do the same using a for a loop."
   ]
  },
  {
   "cell_type": "code",
   "execution_count": null,
   "metadata": {},
   "outputs": [],
   "source": [
    "word = \"IRONHACK\"\n",
    "for i in range(len(word)):\n",
    "    print(word[i])"
   ]
  },
  {
   "cell_type": "markdown",
   "metadata": {
    "id": "mWeIYjhVD6Ol"
   },
   "source": [
    "**Please go through a guided example to understand how the while loop can be used to solve a problem**\n",
    "\n",
    "**Also please pay attention to this problem, we will ask you a similar question in the assessment as well!!**"
   ]
  },
  {
   "cell_type": "markdown",
   "metadata": {
    "id": "K6CiYSVOD6Ol"
   },
   "source": [
    "### Snail and well\n",
    "\n",
    "A snail is at the base of a wall. Every `morning`, the snail climbs 30cm, but at `night` it falls asleep and slides down 20cm because the wall is wet. \n",
    "\n",
    "How many days will it take the snail to climb the wall?\n",
    "\n",
    "Consider that the snail starts climbing during the morning."
   ]
  },
  {
   "cell_type": "markdown",
   "metadata": {
    "id": "698AnTz5D6Ol"
   },
   "source": [
    "**The things to keep in mind when solving this problem**:\n",
    "\n",
    "1. Do you know beforehand, how many days it will take the snail to climb the well? *Hint*: Use the corresponding loop. \n",
    "2. You will need to keep track of the snail's progress. *Hint*: Therefore, you need a variable to store the total distance climbed.\n",
    "3. You will need to update the progress variable with the daily climb and the nightly fall.\n",
    "4. You need to compare the snail distance against the well's height.\n",
    "5. Finally, you need to keep track of the (number of) days until the snail climbed the wall."
   ]
  },
  {
   "cell_type": "code",
   "execution_count": 10,
   "metadata": {
    "colab": {
     "base_uri": "https://localhost:8080/"
    },
    "id": "KlgtiZl5D6Ol",
    "outputId": "ee9fb352-3cf7-431c-df30-ad678433b6f5"
   },
   "outputs": [
    {
     "name": "stdout",
     "output_type": "stream",
     "text": [
      "Days = 11\n"
     ]
    }
   ],
   "source": [
    "# Assign problem data to variables with representative names\n",
    "# well height, daily advance, night retreat, accumulated distance\n",
    "well_height = 125\n",
    "daily_climb = 30\n",
    "nightly_fall = 20\n",
    "total_distance = 0\n",
    "\n",
    "# Assign 0 to the variable that represents the solution\n",
    "total_days = 0\n",
    "\n",
    "# Assume we begin during the day, we use this boolean to determine if it is morning or night\n",
    "is_morning = True\n",
    "\n",
    "# As we don't know beforehand how many days it will take the snail to climb the wall, we're going to use\n",
    "# a `while` loop. Then we set our condition as shown below.\n",
    "while (total_distance < well_height):\n",
    "    if (is_morning):\n",
    "        total_distance += daily_climb\n",
    "        is_morning = False # The morning came to an end.\n",
    "        total_days += 1 # This line could be moved to the \"else\" section depending on how you count days. See comment below.\n",
    "    else:\n",
    "        total_distance -= nightly_fall\n",
    "        is_morning = True # The night came to an end. It starts a new day.\n",
    "        #total_days += 1 This could be added here instead of right after the \"if\" if you only count full days.\n",
    "           \n",
    "# Print the result with print('Days =', days)\n",
    "print('Days =', total_days)"
   ]
  }
 ],
 "metadata": {
  "colab": {
   "name": "4_iterations.ipynb",
   "provenance": []
  },
  "interpreter": {
   "hash": "767d51c1340bd893661ea55ea3124f6de3c7a262a8b4abca0554b478b1e2ff90"
  },
  "kernelspec": {
   "display_name": "Python 3 (ipykernel)",
   "language": "python",
   "name": "python3"
  },
  "language_info": {
   "codemirror_mode": {
    "name": "ipython",
    "version": 3
   },
   "file_extension": ".py",
   "mimetype": "text/x-python",
   "name": "python",
   "nbconvert_exporter": "python",
   "pygments_lexer": "ipython3",
   "version": "3.9.7"
  }
 },
 "nbformat": 4,
 "nbformat_minor": 1
}
