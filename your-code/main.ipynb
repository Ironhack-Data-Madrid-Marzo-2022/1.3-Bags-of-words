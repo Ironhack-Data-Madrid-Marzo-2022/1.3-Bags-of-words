{
 "cells": [
  {
   "cell_type": "markdown",
   "metadata": {},
   "source": [
    "Define `docs` array that contains the paths of `doc1.txt`, `doc2.txt`, and `doc3.txt`."
   ]
  },
  {
   "cell_type": "code",
   "execution_count": 3,
   "metadata": {},
   "outputs": [
    {
     "data": {
      "text/plain": [
       "['I love Ironhack.']"
      ]
     },
     "execution_count": 3,
     "metadata": {},
     "output_type": "execute_result"
    }
   ],
   "source": [
    "docs = ['doc1.txt', 'doc2.txt', 'doc3.txt']\n",
    "\n",
    "open(docs[1]).readlines()"
   ]
  },
  {
   "cell_type": "markdown",
   "metadata": {},
   "source": [
    "Define an empty array `corpus` that will contain the content strings of the docs. Loop `docs` and read the content of each doc into the `corpus` array."
   ]
  },
  {
   "cell_type": "code",
   "execution_count": 6,
   "metadata": {},
   "outputs": [],
   "source": [
    "corpus = []\n",
    "for i in docs:\n",
    "    añadido= (open(i).readlines()[0])\n",
    "    añadido= añadido.replace(\".\",\"\") \n",
    "    añadido= añadido.replace(\"I\",\"i\")   \n",
    "\n",
    "    \n",
    "    corpus.append(añadido)\n",
    "\n",
    "\n",
    "# Write your code here"
   ]
  },
  {
   "cell_type": "markdown",
   "metadata": {},
   "source": [
    "Print `corpus`."
   ]
  },
  {
   "cell_type": "code",
   "execution_count": 7,
   "metadata": {},
   "outputs": [
    {
     "name": "stdout",
     "output_type": "stream",
     "text": [
      "['ironhack is cool', 'i love ironhack', 'i am a student at ironhack']\n"
     ]
    }
   ],
   "source": [
    "print (corpus)\n"
   ]
  },
  {
   "cell_type": "markdown",
   "metadata": {},
   "source": [
    "You should have seen:\n",
    "\n",
    "```['ironhack is cool', 'i love ironhack', 'i am a student at ironhack']```\n",
    "\n",
    "However, if your output is:\n",
    "\n",
    "```['Ironhack is cool.', 'I love Ironhack.', 'I am a student at Ironhack.']```\n",
    "\n",
    "This means you didn't:\n",
    "\n",
    "1. Remove punctuation from the strings;\n",
    "\n",
    "1. Convert strings to lowercase.\n",
    "\n",
    "Revise your code above until you receive the correct output for `corpus`."
   ]
  },
  {
   "cell_type": "markdown",
   "metadata": {},
   "source": [
    "Now define `bag_of_words` as an empty array. It will contain the unique terms in `corpus`.\n",
    "\n",
    "Loop through `corpus`. In each loop, do the following:\n",
    "\n",
    "1. Break the string into an array of terms. \n",
    "1. Create a sub-loop to iterate the terms array. \n",
    "  * In each sub-loop, you'll check if the current term is already contained in `bag_of_words`. If not in `bag_of_words`, append it to the array."
   ]
  },
  {
   "cell_type": "code",
   "execution_count": 50,
   "metadata": {},
   "outputs": [
    {
     "name": "stdout",
     "output_type": "stream",
     "text": [
      "ironhack is cool |\n",
      "i love ironhack |\n",
      "i am a student at ironhack |\n",
      "['ironhack is cool', 'i love ironhack', 'i am a student at ironhack']\n"
     ]
    }
   ],
   "source": [
    "for i in corpus:\n",
    "    print(i,\"|\")\n",
    "print(corpus)"
   ]
  },
  {
   "cell_type": "code",
   "execution_count": 67,
   "metadata": {},
   "outputs": [
    {
     "name": "stdout",
     "output_type": "stream",
     "text": [
      "ironhack is cool i love ironhack i am a student at ironhack\n"
     ]
    }
   ],
   "source": [
    "bag_of_words = []\n",
    "st_1 = \" \".join(corpus)\n",
    "print(st_1)\n",
    "list_1 = st_1.split()\n",
    "\n",
    "for i in list_1:\n",
    "    if i not in (bag_of_words):\n",
    "        bag_of_words.append(i)\n",
    "\n",
    "\n",
    "\n",
    "\n",
    "\n",
    "\n",
    "\n",
    "\n",
    "\n",
    "    \n",
    "\n",
    "        \n",
    "    \n",
    "\n",
    "\n",
    "# Write your code here"
   ]
  },
  {
   "cell_type": "markdown",
   "metadata": {},
   "source": [
    "Print `bag_of_words`. You should see: \n",
    "\n",
    "```['ironhack', 'is', 'cool', 'i', 'love', 'am', 'a', 'student', 'at']```"
   ]
  },
  {
   "cell_type": "code",
   "execution_count": 69,
   "metadata": {},
   "outputs": [
    {
     "name": "stdout",
     "output_type": "stream",
     "text": [
      "['ironhack', 'is', 'cool', 'i', 'love', 'am', 'a', 'student', 'at']\n"
     ]
    }
   ],
   "source": [
    "print(bag_of_words)"
   ]
  },
  {
   "cell_type": "code",
   "execution_count": 103,
   "metadata": {},
   "outputs": [
    {
     "name": "stdout",
     "output_type": "stream",
     "text": [
      "['ironhack is cool', 'i love ironhack', 'i am a student at ironhack']\n"
     ]
    },
    {
     "data": {
      "text/plain": [
       "3"
      ]
     },
     "execution_count": 103,
     "metadata": {},
     "output_type": "execute_result"
    }
   ],
   "source": [
    "print(corpus)\n",
    "len(corpus)"
   ]
  },
  {
   "cell_type": "markdown",
   "metadata": {},
   "source": [
    "Now we define an empty array called `term_freq`. Loop `corpus` for a second time. In each loop, create a sub-loop to iterate the terms in `bag_of_words`. Count how many times each term appears in each doc of `corpus`. Append the term-frequency array to `term_freq`."
   ]
  },
  {
   "cell_type": "code",
   "execution_count": 116,
   "metadata": {},
   "outputs": [],
   "source": [
    "term_freq = []\n",
    "\n",
    "    \n",
    "index =0\n",
    "for sentence in corpus:\n",
    "    term_freq.append([])\n",
    "    sentence = sentence.split()\n",
    "    for word in bag_of_words:\n",
    "        if (word in sentence):\n",
    "            term_freq[index].append(1)\n",
    "        else:\n",
    "            term_freq[index].append(0)\n",
    "            \n",
    "    index +=1\n",
    "        \n",
    "\n",
    "        \n",
    "\n",
    "\n",
    "# Write your code here"
   ]
  },
  {
   "cell_type": "markdown",
   "metadata": {},
   "source": [
    "Print `term_freq`. You should see:\n",
    "\n",
    "```[[1, 1, 1, 0, 0, 0, 0, 0, 0], [1, 0, 0, 1, 1, 0, 0, 0, 0], [1, 0, 0, 1, 0, 1, 1, 1, 1]]```"
   ]
  },
  {
   "cell_type": "code",
   "execution_count": 99,
   "metadata": {},
   "outputs": [
    {
     "name": "stdout",
     "output_type": "stream",
     "text": [
      "[[1, 1, 1, 0, 0, 0, 0, 0, 0], [1, 0, 0, 1, 1, 0, 0, 0, 0], [1, 0, 0, 1, 0, 1, 1, 1, 1]]\n"
     ]
    }
   ],
   "source": [
    "print(term_freq)"
   ]
  },
  {
   "cell_type": "markdown",
   "metadata": {},
   "source": [
    "**If your answer is correct, congratulations! You've solved the challenge!**\n",
    "\n",
    "If not, go back and check for errors in your code."
   ]
  }
 ],
 "metadata": {
  "kernelspec": {
   "display_name": "Python 3 (ipykernel)",
   "language": "python",
   "name": "python3"
  },
  "language_info": {
   "codemirror_mode": {
    "name": "ipython",
    "version": 3
   },
   "file_extension": ".py",
   "mimetype": "text/x-python",
   "name": "python",
   "nbconvert_exporter": "python",
   "pygments_lexer": "ipython3",
   "version": "3.9.7"
  }
 },
 "nbformat": 4,
 "nbformat_minor": 2
}
